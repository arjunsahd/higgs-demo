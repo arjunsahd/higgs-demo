{
 "cells": [
  {
   "cell_type": "code",
   "execution_count": 6,
   "metadata": {},
   "outputs": [],
   "source": [
    "import numpy as np\n",
    "import matplotlib.pyplot as plt\n",
    "import json\n",
    "import glob\n",
    "import os\n",
    "import plotutils\n",
    "import datetime\n",
    "from boto3.session import Session\n",
    "from botocore.client import Config"
   ]
  },
  {
   "cell_type": "code",
   "execution_count": 7,
   "metadata": {},
   "outputs": [],
   "source": [
    "%matplotlib inline"
   ]
  },
  {
   "cell_type": "code",
   "execution_count": 8,
   "metadata": {},
   "outputs": [],
   "source": [
    "def yield_source(source):\n",
    "    job_results = None\n",
    "    if source == 'GCS':\n",
    "        session = Session(\n",
    "            aws_access_key_id=os.environ['GCS_ACCESS'],\n",
    "            aws_secret_access_key=os.environ['GCS_SECRET']\n",
    "        )\n",
    "        s3 = session.resource('s3', endpoint_url='https://storage.googleapis.com',\n",
    "                              config=Config(signature_version='s3v4'))\n",
    "\n",
    "        bucket = s3.Bucket('higgs-demo')\n",
    "        for x in bucket.objects.filter(Prefix='testoutputs').all():\n",
    "            yield x\n",
    "    elif source == 'DSK':\n",
    "        filelist = glob.glob('./eventselection2/*/*.json')\n",
    "        indices = np.arange(len(filelist))\n",
    "        np.random.shuffle(indices)\n",
    "        for x in [filelist[idx] for idx in indices]:\n",
    "            yield x\n",
    "            \n",
    "def load_source(x,source):\n",
    "    if source == 'GCS':\n",
    "        return json.load(x.get()['Body'])\n",
    "    elif source == 'DSK':\n",
    "        return json.load(open(x))"
   ]
  },
  {
   "cell_type": "code",
   "execution_count": 9,
   "metadata": {},
   "outputs": [
    {
     "data": {
      "text/plain": [
       "(0, 22)"
      ]
     },
     "execution_count": 9,
     "metadata": {},
     "output_type": "execute_result"
    },
    {
     "data": {
      "image/png": "[encoded data removed]",
      "text/plain": [
       "<Figure size 288x216 with 1 Axes>"
      ]
     },
     "metadata": {
      "needs_background": "light"
     },
     "output_type": "display_data"
    }
   ],
   "source": [
    "f,ax = plt.subplots(1)\n",
    "f.set_size_inches(4,3)\n",
    "ax.set_xlim(70,181)\n",
    "ax.set_ylim(0,22)"
   ]
  },
  {
   "cell_type": "code",
   "execution_count": 10,
   "metadata": {},
   "outputs": [
    {
     "ename": "AttributeError",
     "evalue": "module 'plotutils' has no attribute 'reset_plotdata'",
     "output_type": "error",
     "traceback": [
      "\u001b[0;31m---------------------------------------------------------------------------\u001b[0m",
      "\u001b[0;31mAttributeError\u001b[0m                            Traceback (most recent call last)",
      "\u001b[0;32m<ipython-input-10-270114ff1771>\u001b[0m in \u001b[0;36m<module>\u001b[0;34m\u001b[0m\n\u001b[0;32m----> 1\u001b[0;31m \u001b[0mplotutils\u001b[0m\u001b[0;34m.\u001b[0m\u001b[0mreset_plotdata\u001b[0m\u001b[0;34m(\u001b[0m\u001b[0;34m)\u001b[0m\u001b[0;34m\u001b[0m\u001b[0;34m\u001b[0m\u001b[0m\n\u001b[0m\u001b[1;32m      2\u001b[0m \u001b[0;32mfor\u001b[0m \u001b[0mi\u001b[0m\u001b[0;34m,\u001b[0m\u001b[0mx\u001b[0m \u001b[0;32min\u001b[0m \u001b[0menumerate\u001b[0m\u001b[0;34m(\u001b[0m\u001b[0myield_source\u001b[0m\u001b[0;34m(\u001b[0m\u001b[0;34m'DSK'\u001b[0m\u001b[0;34m)\u001b[0m\u001b[0;34m)\u001b[0m\u001b[0;34m:\u001b[0m\u001b[0;34m\u001b[0m\u001b[0;34m\u001b[0m\u001b[0m\n\u001b[1;32m      3\u001b[0m     \u001b[0;32mtry\u001b[0m\u001b[0;34m:\u001b[0m\u001b[0;34m\u001b[0m\u001b[0;34m\u001b[0m\u001b[0m\n\u001b[1;32m      4\u001b[0m         \u001b[0md\u001b[0m \u001b[0;34m=\u001b[0m \u001b[0mload_source\u001b[0m\u001b[0;34m(\u001b[0m\u001b[0mx\u001b[0m\u001b[0;34m,\u001b[0m\u001b[0;34m'DSK'\u001b[0m\u001b[0;34m)\u001b[0m\u001b[0;34m\u001b[0m\u001b[0;34m\u001b[0m\u001b[0m\n\u001b[1;32m      5\u001b[0m         \u001b[0mplotutils\u001b[0m\u001b[0;34m.\u001b[0m\u001b[0mupdate\u001b[0m\u001b[0;34m(\u001b[0m\u001b[0md\u001b[0m\u001b[0;34m)\u001b[0m\u001b[0;34m\u001b[0m\u001b[0;34m\u001b[0m\u001b[0m\n",
      "\u001b[0;31mAttributeError\u001b[0m: module 'plotutils' has no attribute 'reset_plotdata'"
     ]
    }
   ],
   "source": [
    "plotutils.reset_plotdata()\n",
    "for i,x in enumerate(yield_source('DSK')):\n",
    "    try:\n",
    "        d = load_source(x,'DSK')\n",
    "        plotutils.update(d)\n",
    "        if i % 100 == 0:\n",
    "            ax.clear()\n",
    "            weighted_and_summed = plotutils.weight_samples(plotutils.lumi_data,plotutils.samples)\n",
    "            groups = plotutils.group_samples(weighted_and_summed)\n",
    "            plotutils.plot(ax,groups)\n",
    "            f.canvas.draw()\n",
    "            f.savefig('higgs{}.png'.format(str(i).zfill(7)))\n",
    "        if 'lumi' in d:\n",
    "            pass\n",
    "    except:\n",
    "        raise"
   ]
  },
  {
   "cell_type": "code",
   "execution_count": null,
   "metadata": {},
   "outputs": [],
   "source": []
  }
 ],
 "metadata": {
  "kernelspec": {
   "display_name": "Python 3",
   "language": "python",
   "name": "python3"
  },
  "language_info": {
   "codemirror_mode": {
    "name": "ipython",
    "version": 3
   },
   "file_extension": ".py",
   "mimetype": "text/x-python",
   "name": "python",
   "nbconvert_exporter": "python",
   "pygments_lexer": "ipython3",
   "version": "3.6.7"
  }
 },
 "nbformat": 4,
 "nbformat_minor": 2
}
